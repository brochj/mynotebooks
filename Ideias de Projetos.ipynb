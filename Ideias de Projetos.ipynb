{
 "cells": [
  {
   "cell_type": "markdown",
   "metadata": {},
   "source": [
    "## Monetizáveis\n",
    "1. Fazer um site de venda de cursos, ebooks, todos serão na verdade links de afiliados. Posso vender até minhas ferramentas, como um Bot, etc\n",
    "    - Exemplo [IdeiasVirtuais](https://ideiasvirtuais.com.br/)\n",
    "    \n",
    "2. Fazer um site de downloads de cursos, monetizar usando ADs\n",
    "    - Exemplo: +300k de view por mês [compartilhandobr](https://compartilhandobr.com/)\n",
    "    1. Dominios\n",
    "        - cursosfree.com.br\n",
    "    2. Features\n",
    "        - Criar um leitor de videos (Python) para contabilizar a quantidade total de horas de curso e por módulos\n",
    "        - Criar um leitor de metadata do torrent, assim crio uma parte de posto com todas as informações (Pode ser ruim, pois o leitor pode ver e não clicar para abrir o link, então caso esteja rodando Ads no protetor de link isso não irá ajudar.)\n",
    "        \n",
    "3. Fazer site de python\n",
    "    1. dominios\n",
    "        - devpython.com.br\n",
    "\n",
    "4. Fazer Bot de Twitter para baixar videos\n",
    "    - Exemplo: https://getvideobot.com/video/1347000667085352961\n",
    "    - A pessoa marca o bot em um tweet de video e ele responde com o link de download\n",
    "    - Colocar Ads na pagina de download\n",
    "    \n",
    "## Scripts de automação\n",
    "1. Download automático dos posts do site https://compartilhandobr.com/ \n",
    "\n",
    "## Para aprender/ fazer videos\n",
    "- Fazer um editor de texto com objetivo final de adicionar multicursor, se conseguir implemetar tentar fazer um pull request para o Spyder IDE \n"
   ]
  }
 ],
 "metadata": {
  "kernelspec": {
   "display_name": "Python 3",
   "language": "python",
   "name": "python3"
  },
  "language_info": {
   "codemirror_mode": {
    "name": "ipython",
    "version": 3
   },
   "file_extension": ".py",
   "mimetype": "text/x-python",
   "name": "python",
   "nbconvert_exporter": "python",
   "pygments_lexer": "ipython3",
   "version": "3.8.5"
  }
 },
 "nbformat": 4,
 "nbformat_minor": 4
}
