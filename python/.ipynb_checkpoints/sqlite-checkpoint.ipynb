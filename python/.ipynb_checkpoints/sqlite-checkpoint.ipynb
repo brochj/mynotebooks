{
 "cells": [
  {
   "cell_type": "markdown",
   "metadata": {},
   "source": [
    "# Sqlite3"
   ]
  },
  {
   "cell_type": "code",
   "execution_count": 1,
   "metadata": {},
   "outputs": [],
   "source": [
    "# Removing file before run all cells\n",
    "import os\n",
    "\n",
    "def remove_file(filename):\n",
    "    if os.path.exists(filename):\n",
    "        os.remove(filename)\n",
    "\n",
    "\n",
    "remove_file('customer.db')"
   ]
  },
  {
   "cell_type": "markdown",
   "metadata": {},
   "source": [
    "## Necessary steps"
   ]
  },
  {
   "cell_type": "code",
   "execution_count": 2,
   "metadata": {},
   "outputs": [],
   "source": [
    "import sqlite3\n",
    "\n",
    "connection = sqlite3.connect('customer.db')\n",
    "\n",
    "cursor = connection.cursor()\n",
    "\n",
    "# Do your things using cursor\n",
    "\n",
    "# stage changes and close\n",
    "# connection.commit()\n",
    "# connection.close()"
   ]
  },
  {
   "cell_type": "markdown",
   "metadata": {},
   "source": [
    "## Create a Table"
   ]
  },
  {
   "cell_type": "code",
   "execution_count": 3,
   "metadata": {},
   "outputs": [
    {
     "data": {
      "text/plain": [
       "<sqlite3.Cursor at 0x1a88c511f10>"
      ]
     },
     "execution_count": 3,
     "metadata": {},
     "output_type": "execute_result"
    }
   ],
   "source": [
    "cursor.execute(\"\"\"CREATE TABLE customers (\n",
    "        first_name TEXT NOT NULL,\n",
    "        last_name TEXT,\n",
    "        email TEXT,\n",
    "        age INTEGER\n",
    "    )\n",
    "\"\"\")\n"
   ]
  },
  {
   "cell_type": "markdown",
   "metadata": {},
   "source": [
    "## Insert values"
   ]
  },
  {
   "cell_type": "markdown",
   "metadata": {},
   "source": [
    "### Insert One record"
   ]
  },
  {
   "cell_type": "code",
   "execution_count": 4,
   "metadata": {},
   "outputs": [
    {
     "data": {
      "text/plain": [
       "<sqlite3.Cursor at 0x1a88c511f10>"
      ]
     },
     "execution_count": 4,
     "metadata": {},
     "output_type": "execute_result"
    }
   ],
   "source": [
    "cursor.execute(\"INSERT INTO customers VALUES ('John', 'Smith', 'john@gmail.com', 23)\")"
   ]
  },
  {
   "cell_type": "markdown",
   "metadata": {},
   "source": [
    "### ATENÇÃO: O Sqlite não da erro se mandar um TEXT na coluna onde é INTEGER\n",
    "### O Sqlite apenas da erro quando vamos colocar TEXT nas Primary Key ou Foreign Key"
   ]
  },
  {
   "cell_type": "code",
   "execution_count": 5,
   "metadata": {},
   "outputs": [
    {
     "data": {
      "text/plain": [
       "<sqlite3.Cursor at 0x1a88c511f10>"
      ]
     },
     "execution_count": 5,
     "metadata": {},
     "output_type": "execute_result"
    }
   ],
   "source": [
    "cursor.execute(\"INSERT INTO customers VALUES ('Adson', 'Falconi', 'ari@gmail.com', 'Texto na idade')\")"
   ]
  },
  {
   "cell_type": "markdown",
   "metadata": {},
   "source": [
    "#### Exemplo função\n",
    "```python\n",
    "def add_one(first, last, email, age):\n",
    "    # ... faz conexao ...\n",
    "    cursor.execute(\"INSERT INTO customers VALUES (?,?,?,?)\", (first, last, email, age))\n",
    "    # ...commit and close\n",
    "```"
   ]
  },
  {
   "cell_type": "markdown",
   "metadata": {},
   "source": [
    "### Insert Many Records"
   ]
  },
  {
   "cell_type": "code",
   "execution_count": 6,
   "metadata": {},
   "outputs": [
    {
     "data": {
      "text/plain": [
       "<sqlite3.Cursor at 0x1a88c511f10>"
      ]
     },
     "execution_count": 6,
     "metadata": {},
     "output_type": "execute_result"
    }
   ],
   "source": [
    "many_customers = [\n",
    "    ('Oscar', 'Silva', 'oscar@hotmail.com', 12),\n",
    "    ('Matheus', 'Silveira', 'math@gmail.com', 18),\n",
    "    ('Isabela', 'Martins', 'isa@gmail.com', 25)]\n",
    "\n",
    "cursor.executemany(\"INSERT INTO customers VALUES (?,?,?,?)\", many_customers)"
   ]
  },
  {
   "cell_type": "markdown",
   "metadata": {},
   "source": [
    "#### Exemplo função\n",
    "```python\n",
    "def add_many(records):\n",
    "    # ... faz conexao ...\n",
    "    cursor.executemany(\"INSERT INTO customers VALUES (?,?,?,?)\", (records))\n",
    "    # ...commit and close\n",
    "```"
   ]
  },
  {
   "cell_type": "markdown",
   "metadata": {},
   "source": [
    "##  Query and Fetchall"
   ]
  },
  {
   "cell_type": "markdown",
   "metadata": {},
   "source": [
    "### fetchone()"
   ]
  },
  {
   "cell_type": "code",
   "execution_count": 7,
   "metadata": {},
   "outputs": [
    {
     "data": {
      "text/plain": [
       "('John', 'Smith', 'john@gmail.com', 23)"
      ]
     },
     "execution_count": 7,
     "metadata": {},
     "output_type": "execute_result"
    }
   ],
   "source": [
    "cursor.execute(\"SELECT * FROM customers\")\n",
    "cursor.fetchone() # returns tuple"
   ]
  },
  {
   "cell_type": "markdown",
   "metadata": {},
   "source": [
    "### fetchmany()"
   ]
  },
  {
   "cell_type": "code",
   "execution_count": 8,
   "metadata": {},
   "outputs": [
    {
     "data": {
      "text/plain": [
       "[('John', 'Smith', 'john@gmail.com', 23),\n",
       " ('Adson', 'Falconi', 'ari@gmail.com', 'Texto na idade'),\n",
       " ('Oscar', 'Silva', 'oscar@hotmail.com', 12)]"
      ]
     },
     "execution_count": 8,
     "metadata": {},
     "output_type": "execute_result"
    }
   ],
   "source": [
    "cursor.execute(\"SELECT * FROM customers\")\n",
    "cursor.fetchmany(3) # returns list of tuples"
   ]
  },
  {
   "cell_type": "markdown",
   "metadata": {},
   "source": [
    "### fetchall()"
   ]
  },
  {
   "cell_type": "code",
   "execution_count": 9,
   "metadata": {},
   "outputs": [
    {
     "data": {
      "text/plain": [
       "[('John', 'Smith', 'john@gmail.com', 23),\n",
       " ('Adson', 'Falconi', 'ari@gmail.com', 'Texto na idade'),\n",
       " ('Oscar', 'Silva', 'oscar@hotmail.com', 12),\n",
       " ('Matheus', 'Silveira', 'math@gmail.com', 18),\n",
       " ('Isabela', 'Martins', 'isa@gmail.com', 25)]"
      ]
     },
     "execution_count": 9,
     "metadata": {},
     "output_type": "execute_result"
    }
   ],
   "source": [
    "cursor.execute(\"SELECT * FROM customers\")\n",
    "cursor.fetchall() # returns list of tuples"
   ]
  },
  {
   "cell_type": "markdown",
   "metadata": {},
   "source": [
    "## Primary Key"
   ]
  },
  {
   "cell_type": "code",
   "execution_count": 10,
   "metadata": {},
   "outputs": [
    {
     "data": {
      "text/plain": [
       "[(1, 'John', 'Smith', 'john@gmail.com', 23),\n",
       " (2, 'Adson', 'Falconi', 'ari@gmail.com', 'Texto na idade'),\n",
       " (3, 'Oscar', 'Silva', 'oscar@hotmail.com', 12),\n",
       " (4, 'Matheus', 'Silveira', 'math@gmail.com', 18),\n",
       " (5, 'Isabela', 'Martins', 'isa@gmail.com', 25)]"
      ]
     },
     "execution_count": 10,
     "metadata": {},
     "output_type": "execute_result"
    }
   ],
   "source": [
    "cursor.execute(\"SELECT rowid,* FROM customers\")\n",
    "cursor.fetchall() # returns list of tuples"
   ]
  },
  {
   "cell_type": "markdown",
   "metadata": {},
   "source": [
    "## Using WHERE to filter results"
   ]
  },
  {
   "cell_type": "markdown",
   "metadata": {},
   "source": [
    "Pode usar qualquer tipo de comparador `>` `>=` `<` `<=`"
   ]
  },
  {
   "cell_type": "code",
   "execution_count": 11,
   "metadata": {},
   "outputs": [
    {
     "data": {
      "text/plain": [
       "[('John', 'Smith', 'john@gmail.com', 23)]"
      ]
     },
     "execution_count": 11,
     "metadata": {},
     "output_type": "execute_result"
    }
   ],
   "source": [
    "cursor.execute(\"SELECT * FROM customers WHERE last_name = 'Smith'\")\n",
    "cursor.fetchall()"
   ]
  },
  {
   "cell_type": "code",
   "execution_count": 12,
   "metadata": {},
   "outputs": [
    {
     "data": {
      "text/plain": [
       "[('John', 'Smith', 'john@gmail.com', 23),\n",
       " ('Adson', 'Falconi', 'ari@gmail.com', 'Texto na idade'),\n",
       " ('Matheus', 'Silveira', 'math@gmail.com', 18),\n",
       " ('Isabela', 'Martins', 'isa@gmail.com', 25)]"
      ]
     },
     "execution_count": 12,
     "metadata": {},
     "output_type": "execute_result"
    }
   ],
   "source": [
    "cursor.execute(\"SELECT * FROM customers WHERE age >= 18 \")\n",
    "cursor.fetchall()"
   ]
  },
  {
   "cell_type": "markdown",
   "metadata": {},
   "source": [
    "### Using LIKE"
   ]
  },
  {
   "cell_type": "code",
   "execution_count": 13,
   "metadata": {},
   "outputs": [
    {
     "data": {
      "text/plain": [
       "[('John', 'Smith', 'john@gmail.com', 23)]"
      ]
     },
     "execution_count": 13,
     "metadata": {},
     "output_type": "execute_result"
    }
   ],
   "source": [
    "cursor.execute(\"SELECT * FROM customers WHERE last_name LIKE 'Sm%' \")\n",
    "cursor.fetchall()"
   ]
  },
  {
   "cell_type": "code",
   "execution_count": 14,
   "metadata": {},
   "outputs": [
    {
     "data": {
      "text/plain": [
       "[('Oscar', 'Silva', 'oscar@hotmail.com', 12),\n",
       " ('Matheus', 'Silveira', 'math@gmail.com', 18)]"
      ]
     },
     "execution_count": 14,
     "metadata": {},
     "output_type": "execute_result"
    }
   ],
   "source": [
    "cursor.execute(\"SELECT * FROM customers WHERE last_name LIKE 'Sil%' \")\n",
    "cursor.fetchall()"
   ]
  },
  {
   "cell_type": "code",
   "execution_count": 15,
   "metadata": {
    "scrolled": false
   },
   "outputs": [
    {
     "data": {
      "text/plain": [
       "[('John', 'Smith', 'john@gmail.com', 23),\n",
       " ('Adson', 'Falconi', 'ari@gmail.com', 'Texto na idade'),\n",
       " ('Matheus', 'Silveira', 'math@gmail.com', 18),\n",
       " ('Isabela', 'Martins', 'isa@gmail.com', 25)]"
      ]
     },
     "execution_count": 15,
     "metadata": {},
     "output_type": "execute_result"
    }
   ],
   "source": [
    "cursor.execute(\"SELECT * FROM customers WHERE email LIKE '%gmail.com' \")\n",
    "cursor.fetchall()"
   ]
  },
  {
   "cell_type": "markdown",
   "metadata": {},
   "source": [
    "## And/OR"
   ]
  },
  {
   "cell_type": "code",
   "execution_count": 16,
   "metadata": {},
   "outputs": [
    {
     "data": {
      "text/plain": [
       "[]"
      ]
     },
     "execution_count": 16,
     "metadata": {},
     "output_type": "execute_result"
    }
   ],
   "source": [
    "cursor.execute(\"SELECT rowid,* FROM customers WHERE last_name LIKE 'Sil%' AND rowid = 2\")\n",
    "cursor.fetchall()"
   ]
  },
  {
   "cell_type": "code",
   "execution_count": 17,
   "metadata": {},
   "outputs": [
    {
     "data": {
      "text/plain": [
       "[(3, 'Oscar', 'Silva', 'oscar@hotmail.com', 12),\n",
       " (4, 'Matheus', 'Silveira', 'math@gmail.com', 18)]"
      ]
     },
     "execution_count": 17,
     "metadata": {},
     "output_type": "execute_result"
    }
   ],
   "source": [
    "cursor.execute(\"SELECT rowid,* FROM customers WHERE last_name LIKE 'Sil%' OR rowid = 4\")\n",
    "cursor.fetchall()"
   ]
  },
  {
   "cell_type": "markdown",
   "metadata": {},
   "source": [
    "## Order By"
   ]
  },
  {
   "cell_type": "markdown",
   "metadata": {},
   "source": [
    "Pode Default `ORDER BY` será usando `ASC` Ascendente, ou seja do menor para maior. \n",
    "\n",
    "Quando quisermos ao contrário (descendente) usamos `DESC` no final do comando"
   ]
  },
  {
   "cell_type": "code",
   "execution_count": 18,
   "metadata": {},
   "outputs": [
    {
     "data": {
      "text/plain": [
       "[(5, 'Isabela', 'Martins', 'isa@gmail.com', 25),\n",
       " (4, 'Matheus', 'Silveira', 'math@gmail.com', 18),\n",
       " (3, 'Oscar', 'Silva', 'oscar@hotmail.com', 12),\n",
       " (2, 'Adson', 'Falconi', 'ari@gmail.com', 'Texto na idade'),\n",
       " (1, 'John', 'Smith', 'john@gmail.com', 23)]"
      ]
     },
     "execution_count": 18,
     "metadata": {},
     "output_type": "execute_result"
    }
   ],
   "source": [
    "cursor.execute(\"SELECT rowid,* FROM customers ORDER BY rowid DESC\")\n",
    "cursor.fetchall()"
   ]
  },
  {
   "cell_type": "markdown",
   "metadata": {},
   "source": [
    "Poderia colocar `ASC` no final, mas é desnecessário  \n",
    "\n",
    "`cursor.execute(\"SELECT rowid,* FROM customers ORDER BY rowid ASC\")`\n"
   ]
  },
  {
   "cell_type": "code",
   "execution_count": 19,
   "metadata": {},
   "outputs": [
    {
     "data": {
      "text/plain": [
       "[(2, 'Adson', 'Falconi', 'ari@gmail.com', 'Texto na idade'),\n",
       " (5, 'Isabela', 'Martins', 'isa@gmail.com', 25),\n",
       " (1, 'John', 'Smith', 'john@gmail.com', 23),\n",
       " (4, 'Matheus', 'Silveira', 'math@gmail.com', 18),\n",
       " (3, 'Oscar', 'Silva', 'oscar@hotmail.com', 12)]"
      ]
     },
     "execution_count": 19,
     "metadata": {},
     "output_type": "execute_result"
    }
   ],
   "source": [
    "cursor.execute(\"SELECT rowid,* FROM customers ORDER BY first_name\")\n",
    "cursor.fetchall()"
   ]
  },
  {
   "cell_type": "code",
   "execution_count": 20,
   "metadata": {},
   "outputs": [
    {
     "data": {
      "text/plain": [
       "[(3, 'Oscar', 'Silva', 'oscar@hotmail.com', 12),\n",
       " (4, 'Matheus', 'Silveira', 'math@gmail.com', 18),\n",
       " (1, 'John', 'Smith', 'john@gmail.com', 23),\n",
       " (5, 'Isabela', 'Martins', 'isa@gmail.com', 25),\n",
       " (2, 'Adson', 'Falconi', 'ari@gmail.com', 'Texto na idade')]"
      ]
     },
     "execution_count": 20,
     "metadata": {},
     "output_type": "execute_result"
    }
   ],
   "source": [
    "cursor.execute(\"SELECT rowid,* FROM customers ORDER BY age\")\n",
    "cursor.fetchall()"
   ]
  },
  {
   "cell_type": "code",
   "execution_count": 21,
   "metadata": {},
   "outputs": [
    {
     "data": {
      "text/plain": [
       "[(2, 'Adson', 'Falconi', 'ari@gmail.com', 'Texto na idade'),\n",
       " (5, 'Isabela', 'Martins', 'isa@gmail.com', 25),\n",
       " (3, 'Oscar', 'Silva', 'oscar@hotmail.com', 12),\n",
       " (4, 'Matheus', 'Silveira', 'math@gmail.com', 18),\n",
       " (1, 'John', 'Smith', 'john@gmail.com', 23)]"
      ]
     },
     "execution_count": 21,
     "metadata": {},
     "output_type": "execute_result"
    }
   ],
   "source": [
    "cursor.execute(\"SELECT rowid,* FROM customers ORDER BY last_name\")\n",
    "cursor.fetchall()"
   ]
  },
  {
   "cell_type": "markdown",
   "metadata": {},
   "source": [
    "## Limiting Results"
   ]
  },
  {
   "cell_type": "code",
   "execution_count": 22,
   "metadata": {
    "scrolled": true
   },
   "outputs": [
    {
     "data": {
      "text/plain": [
       "[(1, 'John', 'Smith', 'john@gmail.com', 23),\n",
       " (2, 'Adson', 'Falconi', 'ari@gmail.com', 'Texto na idade')]"
      ]
     },
     "execution_count": 22,
     "metadata": {},
     "output_type": "execute_result"
    }
   ],
   "source": [
    "cursor.execute(\"SELECT rowid,* FROM customers LIMIT 2\")\n",
    "cursor.fetchall()"
   ]
  },
  {
   "cell_type": "code",
   "execution_count": 23,
   "metadata": {},
   "outputs": [
    {
     "data": {
      "text/plain": [
       "[(3, 'Oscar', 'Silva', 'oscar@hotmail.com', 12)]"
      ]
     },
     "execution_count": 23,
     "metadata": {},
     "output_type": "execute_result"
    }
   ],
   "source": [
    "cursor.execute(\"SELECT rowid,* FROM customers WHERE last_name LIKE 'Sil%' OR rowid = 4 LIMIT 1\")\n",
    "cursor.fetchall()"
   ]
  },
  {
   "cell_type": "markdown",
   "metadata": {},
   "source": [
    "## Update Records"
   ]
  },
  {
   "cell_type": "markdown",
   "metadata": {},
   "source": [
    "### CUIDADO!\n",
    "O próximo comando funciona, porém irá mudar *TODOS* os nomes de quem possui `last_name = 'Smith'`"
   ]
  },
  {
   "cell_type": "code",
   "execution_count": 24,
   "metadata": {},
   "outputs": [
    {
     "data": {
      "text/plain": [
       "[(1, 'Bob', 'Smith', 'john@gmail.com', 23)]"
      ]
     },
     "execution_count": 24,
     "metadata": {},
     "output_type": "execute_result"
    }
   ],
   "source": [
    "cursor.execute(\"\"\"UPDATE customers SET first_name = 'Bob'\n",
    "    WHERE last_name = 'Smith'\n",
    "\"\"\")\n",
    "\n",
    "cursor.execute(\"SELECT rowid,* FROM customers WHERE last_name = 'Smith'\")\n",
    "cursor.fetchall()"
   ]
  },
  {
   "cell_type": "markdown",
   "metadata": {},
   "source": [
    "### Melhor fazer updates usando a PrimaryKey `id`"
   ]
  },
  {
   "cell_type": "code",
   "execution_count": 25,
   "metadata": {},
   "outputs": [
    {
     "data": {
      "text/plain": [
       "[(1, 'John', 'Smith', 'john@gmail.com', 23)]"
      ]
     },
     "execution_count": 25,
     "metadata": {},
     "output_type": "execute_result"
    }
   ],
   "source": [
    "cursor.execute(\"\"\"UPDATE customers SET first_name = 'John'\n",
    "    WHERE rowid = 1\n",
    "\"\"\")\n",
    "\n",
    "cursor.execute(\"SELECT rowid,* FROM customers WHERE last_name = 'Smith'\")\n",
    "cursor.fetchall()"
   ]
  },
  {
   "cell_type": "markdown",
   "metadata": {},
   "source": [
    "## Delete records"
   ]
  },
  {
   "cell_type": "code",
   "execution_count": 26,
   "metadata": {},
   "outputs": [
    {
     "data": {
      "text/plain": [
       "[(1, 'John', 'Smith', 'john@gmail.com', 23),\n",
       " (2, 'Adson', 'Falconi', 'ari@gmail.com', 'Texto na idade'),\n",
       " (3, 'Oscar', 'Silva', 'oscar@hotmail.com', 12),\n",
       " (4, 'Matheus', 'Silveira', 'math@gmail.com', 18),\n",
       " (5, 'Isabela', 'Martins', 'isa@gmail.com', 25)]"
      ]
     },
     "execution_count": 26,
     "metadata": {},
     "output_type": "execute_result"
    }
   ],
   "source": [
    "cursor.execute(\"SELECT rowid,* FROM customers\")\n",
    "cursor.fetchall()"
   ]
  },
  {
   "cell_type": "code",
   "execution_count": 27,
   "metadata": {},
   "outputs": [
    {
     "data": {
      "text/plain": [
       "[(1, 'John', 'Smith', 'john@gmail.com', 23),\n",
       " (2, 'Adson', 'Falconi', 'ari@gmail.com', 'Texto na idade'),\n",
       " (4, 'Matheus', 'Silveira', 'math@gmail.com', 18),\n",
       " (5, 'Isabela', 'Martins', 'isa@gmail.com', 25)]"
      ]
     },
     "execution_count": 27,
     "metadata": {},
     "output_type": "execute_result"
    }
   ],
   "source": [
    "cursor.execute(\"DELETE from customers WHERE rowid = 3\")\n",
    "\n",
    "cursor.execute(\"SELECT rowid,* FROM customers\")\n",
    "cursor.fetchall()"
   ]
  },
  {
   "cell_type": "markdown",
   "metadata": {},
   "source": [
    "### Por algum motivo tem passar o `id` em `string`\n",
    "```python\n",
    "def delete_one(id: str):\n",
    "    cursor.execute(\"DELETE from customers WHERE rowid = (?)\", id)\n",
    "```\n"
   ]
  },
  {
   "cell_type": "markdown",
   "metadata": {},
   "source": [
    "## Delete Table (Drop Table)"
   ]
  },
  {
   "cell_type": "code",
   "execution_count": 28,
   "metadata": {},
   "outputs": [],
   "source": [
    "# cursor.execute(\"DROP TABLE customers\")\n",
    "# connection.commit()"
   ]
  },
  {
   "cell_type": "markdown",
   "metadata": {},
   "source": [
    "## Closing this database"
   ]
  },
  {
   "cell_type": "code",
   "execution_count": 29,
   "metadata": {},
   "outputs": [],
   "source": [
    "connection.commit()\n",
    "connection.close()"
   ]
  },
  {
   "cell_type": "markdown",
   "metadata": {},
   "source": [
    "# Relationships\n",
    "\n",
    "## COMO DEFINIR A RELAÇÃO\n",
    "Temos 3 tipos  \n",
    "- One-to-One\n",
    "- One-to-Many\n",
    "- Many-to-Many\n",
    "\n",
    "Remember ,if you want to express a requirement which says that **Item X belongs to Item Y** .we just put a **foreign key in Item X** which references Item Y .\n",
    "\n",
    "This will create a **Many To One** relationship from X to Y .\n",
    "\n",
    "---\n",
    "If also **Item Y belongs to Item X** ,we place **another foreign key in Y** which references Item X which creates a **One To One** relationship ."
   ]
  },
  {
   "cell_type": "markdown",
   "metadata": {},
   "source": [
    "## Many-to-Many\n",
    "- Uma **child** pode ter vários **dogs**\n",
    "- Um **dog** poder ter vários **child**"
   ]
  },
  {
   "cell_type": "code",
   "execution_count": 30,
   "metadata": {},
   "outputs": [],
   "source": [
    "import sqlite3\n",
    "remove_file('manytomany.db')\n",
    "\n",
    "conn = sqlite3.connect('manytomany.db')\n",
    "c = conn.cursor()\n",
    "\n",
    "c.execute(\"\"\"CREATE TABLE child (\n",
    "    id INTEGER PRIMARY KEY AUTOINCREMENT,\n",
    "    name TEXT\n",
    ");\n",
    "\"\"\")\n",
    "\n",
    "c.execute(\"\"\"CREATE TABLE dog (\n",
    "    id INTEGER PRIMARY KEY AUTOINCREMENT,\n",
    "    dog TEXT\n",
    ");\n",
    "\"\"\")\n",
    "\n",
    "c.execute(\"\"\"CREATE TABLE child_dog (\n",
    "    child_id INTEGER,\n",
    "    dog_id INTEGER,\n",
    "    FOREIGN KEY(child_id) REFERENCES child(id),\n",
    "    FOREIGN KEY(dog_id) REFERENCES dog(id)\n",
    ");\n",
    "\"\"\")\n",
    "\n",
    "# Insert bobby child\n",
    "c.execute(\"\"\"INSERT INTO child VALUES (NULL, 'bobby')\"\"\")\n",
    "# The python module puts the last row id inserted into a variable on the cursor\n",
    "bobby_id = c.lastrowid\n",
    "\n",
    "# Insert spot dog\n",
    "c.execute(\"\"\"INSERT INTO dog VALUES (NULL, 'spot')\"\"\")\n",
    "spot_id = c.lastrowid\n",
    "\n",
    "# Insert the mapping\n",
    "c.execute(\"\"\"INSERT INTO child_dog VALUES(?, ?)\"\"\", (bobby_id, spot_id));\n",
    "# Commit\n",
    "conn.commit()\n",
    "conn.close()"
   ]
  },
  {
   "cell_type": "markdown",
   "metadata": {},
   "source": [
    "- `FOREIGN KEY ()` tells SQlite that child_id is a foreign key .\n",
    "\n",
    "- `REFERENCES ()` tells SQlite the table and column we are relating to so we actually relate to a specific column in a table not the table itself."
   ]
  },
  {
   "cell_type": "markdown",
   "metadata": {},
   "source": [
    "## One-to-many or Many-to-one\n",
    "\n",
    "### TODO List Example\n",
    "- Uma **Lista** pode ter muitos **items**\n",
    "- Um **item** pertence à uma **lista** apenas"
   ]
  },
  {
   "cell_type": "code",
   "execution_count": 31,
   "metadata": {},
   "outputs": [],
   "source": [
    "# TODO LIST EXAMPLE\n",
    "import sqlite3\n",
    "remove_file('onetomany.db')\n",
    "\n",
    "conn = sqlite3.connect('onetomany.db')\n",
    "c = conn.cursor()\n",
    "\n",
    "c.execute(\"\"\"CREATE TABLE lists (\n",
    "    id INTEGER PRIMARY KEY AUTOINCREMENT,\n",
    "    title TEXT NOT NULL\n",
    ");\n",
    "\"\"\")\n",
    "\n",
    "c.execute(\"\"\"CREATE TABLE items (\n",
    "    id INTEGER PRIMARY KEY AUTOINCREMENT,\n",
    "    list_id INTEGER NOT NULL,\n",
    "    content TEXT NOT NULL,\n",
    "    FOREIGN KEY (list_id) REFERENCES lists (id)\n",
    ");\n",
    "\"\"\")\n",
    "\n",
    "c.execute(\"INSERT INTO lists (title) VALUES (?)\", ('Work',))\n",
    "c.execute(\"INSERT INTO lists (title) VALUES (?)\", ('Home',))\n",
    "c.execute(\"INSERT INTO lists (title) VALUES (?)\", ('Study',))\n",
    "\n",
    "c.execute(\"INSERT INTO items (list_id, content) VALUES (1, 'Morning meeting')\")\n",
    "c.execute(\"INSERT INTO items (list_id, content) VALUES (2, 'Buy fruit')\")\n",
    "c.execute(\"INSERT INTO items (list_id, content) VALUES (2, 'Cook dinner')\")\n",
    "c.execute(\"INSERT INTO items (list_id, content) VALUES (3, 'Learn Flask')\")\n",
    "c.execute(\"INSERT INTO items (list_id, content) VALUES (3, 'Learn SQLite')\")\n",
    "\n",
    "conn.commit()\n",
    "conn.close()"
   ]
  },
  {
   "cell_type": "markdown",
   "metadata": {},
   "source": [
    "## One-to-one\n",
    "- Each article can belong to one family .\n",
    "\n",
    "- Each family has only one article \n",
    "\n"
   ]
  },
  {
   "cell_type": "code",
   "execution_count": 32,
   "metadata": {},
   "outputs": [],
   "source": [
    "import sqlite3\n",
    "remove_file('onetoone.db')\n",
    "\n",
    "conn = sqlite3.connect('onetoone.db')\n",
    "c = conn.cursor()\n",
    "\n",
    "c.execute(\"\"\"CREATE TABLE IF NOT EXISTS families (\n",
    "     id INTEGER PRIMARY KEY,\n",
    "     name TEXT NOT NULL,\n",
    "     article_id INTEGER,\n",
    "     FOREIGN KEY(article_id) REFERENCES articles(id)\n",
    "     );\n",
    "\"\"\")\n",
    "\n",
    "c.execute(\"\"\"CREATE TABLE IF NOT EXISTS  articles (\n",
    "    id INTEGER PRIMARY KEY,\n",
    "    reference VARCHAR(32) NOT NULL,\n",
    "    name TEXT NOT NULL,\n",
    "    available INTEGER,\n",
    "    family_id INTEGER,\n",
    "    FOREIGN KEY(family_id) REFERENCES families(id)\n",
    " );\n",
    "\"\"\")\n",
    "\n",
    "\n",
    "conn.commit()\n",
    "conn.close()"
   ]
  }
 ],
 "metadata": {
  "kernelspec": {
   "display_name": "Python 3",
   "language": "python",
   "name": "python3"
  },
  "language_info": {
   "codemirror_mode": {
    "name": "ipython",
    "version": 3
   },
   "file_extension": ".py",
   "mimetype": "text/x-python",
   "name": "python",
   "nbconvert_exporter": "python",
   "pygments_lexer": "ipython3",
   "version": "3.8.5"
  }
 },
 "nbformat": 4,
 "nbformat_minor": 4
}
