{
 "cells": [
  {
   "cell_type": "markdown",
   "metadata": {},
   "source": [
    "Principais caracteres especiais (meta-caracteres):\n",
    "- Ponto `.`: Corresponde a qualquer caractere, menos o de\n",
    "nova linha `\\n`. Se a flag DOTALL for especificada, isso\n",
    "corresponde a qualquer caractere que inclua uma nova\n",
    "linha.\n",
    "- Circunflexo `^`: Início da string. No modo MULTILINE\n",
    "também coincide imediatamente após cada nova linha.\n",
    "- Cifrão `$`: Fim da string.\n",
    "- Contra-barra `\\`: Caractere de escape, permite usar\n",
    "caracteres especiais como se fossem comuns.\n",
    "- Colchetes `[]`: Qualquer caractere dos listados entre\n",
    "colchetes (range). Os caracteres podem ser listados\n",
    "individualmente [abc], combinando `a`, `b` e `c`, ou\n",
    "sequência como [a-z]. Para usar o `-` literalmente, temos\n",
    "que usá-lo no início ou fim da expressão.\n",
    "- Asterisco `*`: Zero ou mais ocorrências da expressão\n",
    "anterior.\n",
    "- Mais `+`: Uma ou mais ocorrências da expressão anterior\n",
    "- Interrogação `?`: Zero ou uma ocorrência da expressão anterior.\n",
    "- Chaves `{n}`: `N` ocorrências da expressão anterior.\n",
    "- Barra vertical ou pipe `|`: ‘Ou’ lógico.\n",
    "- Parênteses `()`: Delimitam um grupo de expressões.\n",
    "- `\\d`: Dígito. Equivale a [0-9].\n",
    "- `\\D`: Não dígito. Equivale a [^0-9].\n",
    "- `\\s`: Qualquer caractere de espaçamento `[ \\t\\n\\r\\f\\v]`.\n",
    "- `\\S`: Qualquer caractere que não seja de espaçamento `[^\\t\\n\\r\\f\\v]`.\n",
    "- `\\w`: Caractere alfanumérico ou sublinhado `[a-zA-Z0-9_]`.\n",
    "- `\\W`: Caractere que não seja alfanumérico ou sublinhado `[^a-zA-Z0-9_]`"
   ]
  },
  {
   "cell_type": "code",
   "execution_count": 1,
   "metadata": {},
   "outputs": [
    {
     "name": "stdout",
     "output_type": "stream",
     "text": [
      "\\\n"
     ]
    }
   ],
   "source": [
    "import re\n",
    "padrao = \".\"\n",
    "\n",
    "# Modificando o texto para ser uma raw string\n",
    "texto = r\"\\nEsta é uma aula de Python.\\n Nesta aula vamos falar sobre expressões regulares.\\n Espero que goste.\\n\"\n",
    "\n",
    "resultado = re.search(padrao, texto, re.DOTALL)\n",
    "\n",
    "print(f\"{resultado.group()}\")\n",
    "\n",
    "# Se a flag DOTALL for especificada, isso corresponde a qualquer caractere que inclua uma nova linha."
   ]
  },
  {
   "cell_type": "markdown",
   "metadata": {},
   "source": [
    "## Veja algumas flags\n",
    "`re.IGNORECASE (re.I)`: Não faz distinção entre maiúsculas e minúsculas.\n",
    "\n",
    "\n",
    "`re.DOTALL (re.S)`: Faz com que o caractere especial “.” combine qualquer caractere, incluindo uma\n",
    "nova linha, sem esta flag, o “.” irá combinar qualquer coisa, exceto uma nova linha.\n",
    "\n",
    "\n",
    "`re.VERBOSE (re.X)`: Permite que você escreva expressões regulares mais agradáveis e que sejam\n",
    "mais legíveis, permitindo que adicione comentários. O espaço em branco dentro do padrão é\n",
    "ignorado, exceto quando está em uma classe de caracteres ou quando é precedido por uma barra\n",
    "invertida (“\\ ”). Quando uma linha contém um # que não está em uma classe de caracteres e não\n",
    "esteja precedido de uma barra invertida (“\\#”), ele próprio e todos caracteres até o final da linha\n",
    "são ignorados."
   ]
  },
  {
   "cell_type": "code",
   "execution_count": 2,
   "metadata": {},
   "outputs": [],
   "source": [
    "import re\n",
    "a = re.compile(r\"\"\"\\d +  # Parte inteira\n",
    "                    \\.   # Ponto decimal\n",
    "                    \\d * # Alguns digitos fracionarios\"\"\", re.X)"
   ]
  },
  {
   "cell_type": "markdown",
   "metadata": {},
   "source": [
    "## Ocorrência individual e múltiplas\n",
    "`[0-9]` Qualquer número entre 0 e 9 (cada ocorrência individual).\n",
    "\n",
    "`[0-9]+` Qualquer número entre 0 e 9 (várias ocorrências)."
   ]
  },
  {
   "cell_type": "code",
   "execution_count": 3,
   "metadata": {
    "scrolled": true
   },
   "outputs": [
    {
     "name": "stdout",
     "output_type": "stream",
     "text": [
      "['5', '8', '6', '7', '5', '4', '7', '1', '4', '7', '4', '8']\n",
      "['58', '675', '47', '14', '7', '48']\n"
     ]
    }
   ],
   "source": [
    "pattern_a = re.compile(r\"[0-9]\")\n",
    "pattern_b = re.compile(r\"[0-9]+\")\n",
    "\n",
    "text = \"Olá temos 58 números 675 espalhados 47 nest texto 14. Mas tem negativos -7 e -48\"\n",
    "\n",
    "a = re.findall(pattern_a, text)\n",
    "b = re.findall(pattern_b, text)\n",
    "print(a)\n",
    "print(b)"
   ]
  },
  {
   "cell_type": "markdown",
   "metadata": {},
   "source": [
    "## Qualquer ocorrência\n",
    "`(segunda|terça|quarta|quinta|sexta)-feira`"
   ]
  },
  {
   "cell_type": "code",
   "execution_count": 4,
   "metadata": {},
   "outputs": [
    {
     "name": "stdout",
     "output_type": "stream",
     "text": [
      "['segunda', 'terça']\n"
     ]
    }
   ],
   "source": [
    "pattern = re.compile(r\"(segunda|terça|quarta|quinta|sexta)-feira\")\n",
    "\n",
    "text = \"Na segunda-feira eu não vou trabalhar Na terça-feira não vou pra poder descansar Na quarta preciso me recuperar Na quinta eu acordo meio-dia, não dá Na sexta viajo pra veranear No sábado vou pra mangueira sambar Domingo é descanso e eu não vou mesmo lá Mas todo fim de mês chego devagar Porque é pagamento eu não posso faltar\"\n",
    "\n",
    "print(re.findall(pattern, text))"
   ]
  },
  {
   "cell_type": "code",
   "execution_count": 5,
   "metadata": {},
   "outputs": [
    {
     "name": "stdout",
     "output_type": "stream",
     "text": [
      "['ana', 'ana', 'ana', 'ana']\n",
      "[]\n"
     ]
    }
   ],
   "source": [
    "pattern = re.compile('ana')\n",
    "text = \"Ana adora ouvir chiclete com Banana, gosta de bananada e também banana, ela é irmã da Mariana.\"\n",
    "print(re.findall(pattern, text))\n",
    "\n",
    "pattern = re.compile('ana', re.I)  # re.I -> Ignore Case\n",
    "print(re.findall(pattern, texto))"
   ]
  },
  {
   "cell_type": "markdown",
   "metadata": {},
   "source": [
    "## Usando `.`\n",
    "Veja um exemplo, utilizando `.` no padrão:\n",
    "`.ato` = `qualquer_caracter + ato`"
   ]
  },
  {
   "cell_type": "code",
   "execution_count": 6,
   "metadata": {},
   "outputs": [
    {
     "name": "stdout",
     "output_type": "stream",
     "text": [
      "['gato', 'rato', 'mato', 'pato', 'bato', ' ato', ' ato', ' ato']\n"
     ]
    }
   ],
   "source": [
    "padrao = re.compile(r\".ato\")\n",
    "text = (\"Eu tenho um gato que corre de ratos,\"\n",
    "        \"foge para o mato, aí eu pego o sapato \"\n",
    "        \"e bato ele no ato. Ele parece um ator, \"\n",
    "        \"atormentado.\")\n",
    "resultado = re.findall(padrao, text)\n",
    "print(resultado)"
   ]
  },
  {
   "cell_type": "markdown",
   "metadata": {},
   "source": [
    "## Função `re.search()`\n",
    "`re.search(pattern, string, flags=0)`: Procura a ocorrência do pattern (padrão) dentro da string e retorna um objeto que corresponda a este padrão (match object).\n",
    "\n",
    "**pattern**: padrão, ou expressão regular avaliada.\n",
    "\n",
    "**string**: texto em que será feita a pesquisa.\n",
    "\n",
    "**Flags**: `re.IGNORECASE (re.I)`, `re.LOCALE (re.L)`, `re.MULTILINE (re.M)`, `re.DOTALL (re.S)`, `re.UNICODE (re.U)`, `re.VERBOSE (re.X)`.\n",
    "\n",
    "**Retorna**: `re.MatchObject` ou `None`\n",
    "\n",
    "---\n",
    "## Função `re.match()`\n",
    "`re.match(pattern, string, flags=0)`: Procura a ocorrência do pattern **no início da string**. \n",
    "> Se o pattern casar o início da string, a função retorna o re.MatchObject correspondente, senão, retorna `None`.\n",
    "\n",
    "**pattern**: padrão, ou expressão regular avaliada.\n",
    "\n",
    "**Flags**: `re.IGNORECASE (re.I)`, `re.LOCALE (re.L)`, `re.MULTILINE (re.M)`, `re.DOTALL (re.S)`, `re.UNICODE (re.U)`, `re.VERBOSE (re.X)`.\n",
    "\n",
    "**Retorna**: `re.MatchObject` ou `None`"
   ]
  },
  {
   "cell_type": "code",
   "execution_count": 7,
   "metadata": {},
   "outputs": [
    {
     "name": "stdout",
     "output_type": "stream",
     "text": [
      "<re.Match object; span=(12, 16), match='Gato'>\n",
      "None\n",
      "<re.Match object; span=(0, 4), match='Gato'>\n"
     ]
    }
   ],
   "source": [
    "padrao = re.compile(r\".ato\")\n",
    "\n",
    "texto = (\"Eu tenho um Gato que corre de RATO,\"\n",
    "        \"foge para o MATO, aí eu pego o sapato \"\n",
    "        \"e bato ele no ato.\")\n",
    "\n",
    "resultado = re.search(padrao, texto)\n",
    "print(resultado)\n",
    "\n",
    "resultado = re.match(padrao, texto)\n",
    "print(resultado)\n",
    "\n",
    "texto = (\"Gato que corre de RATO,\"\n",
    "        \"foge para o MATO, aí eu pego o sapato \"\n",
    "        \"e bato ele no ato.\")\n",
    "\n",
    "resultado = re.match(padrao, texto)\n",
    "print(resultado)"
   ]
  },
  {
   "cell_type": "markdown",
   "metadata": {},
   "source": [
    "Veja que na segunda execução retornou None, porque não foi\n",
    "encontrada uma string que correspondesse ao padrão informado logo\n",
    "no início do texto.\n",
    "Já na terceira execução, foi encontrada.\n"
   ]
  },
  {
   "cell_type": "markdown",
   "metadata": {},
   "source": [
    "## Exemplo: Localizando CPFs/CNPJs em um texto\n",
    "\n",
    "- CNPJ: `([0-9]{2}[\\.]?[0-9]{3}[\\.]?[0-9]{3}[\\/]?[0-9]{4}[-]?[0-9]{2})`  \n",
    "- CPF: `([0-9]{3}[\\.]?[0-9]{3}[\\.]?[0-9]{3}[-]?[0-9]{2})`\n",
    "\n",
    "#### Legenda\n",
    "- `[0-9]{2}` = Faixa de caracteres: 0 a 9, quantidade: 2 caracteres;\n",
    "- `[0-9]{3}` = Faixa de caracteres: 0 a 9, quantidade: 3 caracteres;\n",
    "- `[0-9]{4}` = Faixa de caracteres: 0 a 9, quantidade: 4 caracteres;\n",
    "- `[\\.]?` = Um ponto, opcional. Foi usado \\ no ponto, pois ele sozinho é caractere especial;\n",
    "- `[-]?` = Um traço, opcional (se acrescentar outros caracteres, comece pelo - sempre);\n",
    "- `[\\/]?` = Uma barra, opcional. Tambem \"escapada\" com \\;\n",
    "- (grupo1)|(grupo2) Usando o OU lógico. Se um dos grupos validar, a expressão é válida"
   ]
  },
  {
   "cell_type": "code",
   "execution_count": 8,
   "metadata": {
    "scrolled": true
   },
   "outputs": [
    {
     "name": "stdout",
     "output_type": "stream",
     "text": [
      "[('', '00045847916'),\n",
      " ('12.345.444/7777-85', ''),\n",
      " ('', '049.105.969-84'),\n",
      " ('', '530.428.919-68'),\n",
      " ('', '06318824995'),\n",
      " ('', '828.400.590-53'),\n",
      " ('', '064.390.099-31'),\n",
      " ('', '042.393.449-05'),\n",
      " ('12.345.678/0001-85', '')]\n"
     ]
    }
   ],
   "source": [
    "import re\n",
    "import pprint\n",
    "\n",
    "padrao = re.compile(r\"([0-9]{2}[\\.]?[0-9]{3}[\\.]?[0-9]{3}[/]?[0-9]{4}[-]?[0-9]{2})|([0-9]{3}[\\.]?[0-9]{3}[\\.]?[0-9]{3}[-]?[0-9]{2})\")\n",
    "# Duas formas iguasis\n",
    "#padrao = re.compile(\"([0-9]{2}\\.?[0-9]{3}\\.?[0-9]{3}[/]?[0-9]{4}[-]?[0-9]{2})|([0-9]{3}\\.?[0-9]{3}\\.?[0-9]{3}[-]?[0-9]{2})\")\n",
    "#padrao = re.compile(\"([0-9]{2}.?[0-9]{3}.?[0-9]{3}[/]?[0-9]{4}[-]?[0-9]{2})|([0-9]{3}.?[0-9]{3}.?[0-9]{3}[-]?[0-9]{2})\")\n",
    "\n",
    "# CNPJ: ([0-9]{2}[\\.]?[0-9]{3}[\\.]?[0-9]{3}[\\/]?[0-9]{4}[-]?[0-9]{2})\n",
    "# CPF: ([0-9]{3}[\\.]?[0-9]{3}[\\.]?[0-9]{3}[-]?[0-9]{2})\n",
    "\n",
    "# Texto retirado do documento concurso_novo129066_a87211e5a81747267b10c00f8d836a44.pdf\n",
    "# com o resultado de um concurso que pode ser localizado na internet de forma pública\n",
    "texto = (r\"\"\"Nº INSC. CANDIDATO CARGO C P F\n",
    "RELAÇÃO DE CANDIDATOS - CONCURSO PÚBLICO\n",
    "42 FABIANO FINGER SANTOS ODONTOLÓGO 00045847916 !!! SEM PONTUAÇÃO\n",
    "35 FERNANDA REGINA LOTTI ODONTOLÓGO 12.345.444/7777-85 !!!!FORMATO CNPJ\n",
    "70 FRANCIANE GOMES ODONTOLÓGO 049.105.969-84\n",
    "68 LUIZ EDUARDO CORREA RODRIGUEZ ODONTOLÓGO 530.428.919-68\n",
    "67 LUIZ FELIPE SANTOS PEREIRA ODONTOLÓGO 06318824995 !!!!!CPF SEM MÁSCARA\n",
    "44 LUIZ OMAR WEILLER ODONTOLÓGO 828.400.590-53\n",
    "31 MARCOS VINICIUS PARISOTTO ODONTOLÓGO 064.390.099-31\n",
    "71 MARCUS PALMA NUNES ODONTOLÓGO 042.393.449-05\n",
    "XX FULANO DE TAL 12.345.678/0001-85 !!!!!UM CNPJ\n",
    "\"\"\")\n",
    "\n",
    "resultado = re.findall(padrao, texto)\n",
    "pprint.pprint(resultado)"
   ]
  },
  {
   "cell_type": "markdown",
   "metadata": {},
   "source": [
    "## Exemplo: Localizando Emails\n",
    "\n",
    "Email: `[\\w.-]+@[\\w.-]+`\n",
    "\n",
    "- `\\w` : Caractere alfanumérico ou sublinhado `[a-zA-Z0-9_]`\n",
    "- `.` : Considera o `.`. Devido ao ponto, foi encontrado `evaldo.wolkers@algumacoisa.com.br`, se não permitisse o ponto, seria retornado `wolkers@algumacoisa.com.br`.\n",
    "- `-` : Considera o `-`. Devido ao hífen, foi encontrado `evaldo-wolkers@algo.com.br`, se não permitisse o ponto, seria retornado `wolkers@algo.com.br`.\n",
    "- `+` : Uma ou mais ocorrências da expressão anterior `[\\w.-]`\n",
    "- `@` : Considera um caractere arroba."
   ]
  },
  {
   "cell_type": "code",
   "execution_count": 11,
   "metadata": {
    "scrolled": true
   },
   "outputs": [
    {
     "name": "stdout",
     "output_type": "stream",
     "text": [
      "['evaldowolkers@gmail.com', 'evaldorw@hotmail.com', 'evaldo.wolkers@algumacoisa.com.br', 'evaldo-wolkers@algo.com.br']\n"
     ]
    }
   ],
   "source": [
    "padrao = r'[\\w.-]+@[\\w.-]+'\n",
    "texto = r\"Meu principal e-mail é evaldowolkers@gmail.com, mas tenho também o evaldorw@hotmail.com, e o que dizer do evaldo.wolkers@algumacoisa.com.br? Este eu ainda não tenho. Que tal também o evaldo-wolkers@algo.com.br?\"\n",
    "\n",
    "match = re.findall(padrao, texto)\n",
    "\n",
    "print(match)"
   ]
  },
  {
   "cell_type": "code",
   "execution_count": 12,
   "metadata": {
    "scrolled": true
   },
   "outputs": [
    {
     "name": "stdout",
     "output_type": "stream",
     "text": [
      "['evaldowolkers@gmail', 'evaldorw@hotmail', 'wolkers@algumacoisa', 'wolkers@algo']\n",
      "['.@.', '...@...']\n",
      "['Meu principal e-mail é evaldowolkers@gmail.com, mas tenho também o evaldorw@hotmail.com, e o que dizer do evaldo.wolkers@algumacoisa.com.br? Este eu ainda não tenho. Que tal também o evaldo-wolkers@algo.com.br? .@.  ...@...']\n",
      "['s@g', 'w@h', 's@a', 's@a', '.@.', '.@.']\n",
      "['@', '.', '@', '.', '.', '@', '.', '.', '.', '@', '.', '.', '.', '@', '.', '.', '.', '.', '@', '.', '.', '.']\n"
     ]
    }
   ],
   "source": [
    "import re\n",
    "\n",
    "texto = \"Meu principal e-mail é evaldowolkers@gmail.com, mas tenho também o evaldorw@hotmail.com, e o que dizer do evaldo.wolkers@algumacoisa.com.br? Este eu ainda não tenho. Que tal também o evaldo-wolkers@algo.com.br? .@.  ...@...\"\n",
    "\n",
    "# Encontrando um conjunto de caracteres (a-zA-z0-9), seguido de arroba e outro conjunto de caracteres\n",
    "match = re.findall(r'[\\w]+@[\\w]+', texto)\n",
    "print(match)\n",
    "#['evaldowolkers@gmail', 'evaldorw@hotmail', 'wolkers@algumacoisa', 'wolkers@algo']\n",
    "\n",
    "# Encontrando pontos, arroba e pontos, literalmente (várias ocorrências de ponto)\n",
    "match = re.findall(r'[\\.]+@[\\.]+', texto)\n",
    "print(match)\n",
    "# ['.@.', '...@...']\n",
    "\n",
    "# Encontrando qualquer caracter (ponto como coringa), várias ocorrências, seguido de arroba e qualquer caracter, várias ocorrências\n",
    "match = re.findall('.+@.+', texto)\n",
    "print(match)\n",
    "#['Meu principal e-mail é evaldowolkers@gmail.com, mas tenho também o evaldorw@hotmail.com, e o que dizer do evaldo.wolkers@algumacoisa.com.br? Este eu ainda não tenho. Que tal também o evaldo-wolkers@algo.com.br? .@.  ...@...']\n",
    "\n",
    "# Encontrando qualquer caracter (ponto como coringa), várias ocorrências, seguido de arroba e qualquer caracter, várias ocorrências\n",
    "match = re.findall('.@.', texto)\n",
    "print(match)\n",
    "#['s@g', 'w@h', 's@a', 's@a', '.@.', '.@.']\n",
    "\n",
    "# Encontrando arrobas e pontos, caracteres informados entre chaves\n",
    "match = re.findall('[.@.]', texto)\n",
    "print(match)\n",
    "#['@', '.', '@', '.', '.', '@', '.', '.', '.', '@', '.', '.', '.', '@', '.', '.', '.', '.', '@', '.', '.', '.']\n",
    "\n"
   ]
  },
  {
   "cell_type": "markdown",
   "metadata": {},
   "source": [
    "## Exemplo: Localizando Datas\n",
    "Data: `\\d{2}/\\d{2}/\\d{4}`"
   ]
  },
  {
   "cell_type": "code",
   "execution_count": 13,
   "metadata": {},
   "outputs": [
    {
     "name": "stdout",
     "output_type": "stream",
     "text": [
      "['26/09/2017', '10/09/2017']\n"
     ]
    }
   ],
   "source": [
    "padrao = re.compile(r\"\\d{2}/\\d{2}/\\d{4}\")\n",
    "texto = \"Hoje é dia 26/09/2017, a data para entrega do produto era 10/09/2017, estamos com 16 dias em atraso.\"\n",
    "print(re.findall(padrao, texto))\n"
   ]
  }
 ],
 "metadata": {
  "kernelspec": {
   "display_name": "Python 3",
   "language": "python",
   "name": "python3"
  },
  "language_info": {
   "codemirror_mode": {
    "name": "ipython",
    "version": 3
   },
   "file_extension": ".py",
   "mimetype": "text/x-python",
   "name": "python",
   "nbconvert_exporter": "python",
   "pygments_lexer": "ipython3",
   "version": "3.8.5"
  }
 },
 "nbformat": 4,
 "nbformat_minor": 4
}
