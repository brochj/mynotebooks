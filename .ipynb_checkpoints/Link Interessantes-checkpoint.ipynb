{
 "cells": [
  {
   "cell_type": "markdown",
   "metadata": {},
   "source": [
    "\n",
    "Lista de artigos interessantes\n",
    "- Why I started using Python type annotations – and why you should too [Link](https://florimond.dev/blog/articles/2018/07/why-i-started-using-python-type-annotations-and-why-you-should-too/)\n",
    "\n",
    "## Aprender\n",
    "- [Github - Algorithms and Data Structures](https://github.com/trekhleb/javascript-algorithms)\n",
    "    - Data Sctructures está separado por nível de dificuldade\n",
    "    - Algorithms está separado por tópicos\n",
    "\n",
    "## Lista de Ideias/Projetos\n",
    "- [Github - Build Yor Own X](https://github.com/danistefanovic/build-your-own-x)\n",
    "- [Display and filter GitHub Repositories](https://medium.com/better-programming/here-are-5-challenging-app-ideas-you-can-start-building-today-jan-2020-78cd4fb45996)\n",
    "    - Fazer o do Github\n",
    "\n",
    "## Conteúdos Grátis\n",
    "### Books\n",
    "- [Github - Free Programming Books](https://github.com/EbookFoundation/free-programming-books)\n",
    "### Cursos\n",
    "- `BOM` [Harvard - This is CS50x](https://cs50.harvard.edu/x/2020/) \n",
    "\n",
    "## APIs\n",
    "- [Github - Public APIs](https://github.com/public-apis/public-apis)"
   ]
  }
 ],
 "metadata": {
  "kernelspec": {
   "display_name": "Python 3",
   "language": "python",
   "name": "python3"
  },
  "language_info": {
   "codemirror_mode": {
    "name": "ipython",
    "version": 3
   },
   "file_extension": ".py",
   "mimetype": "text/x-python",
   "name": "python",
   "nbconvert_exporter": "python",
   "pygments_lexer": "ipython3",
   "version": "3.8.5"
  }
 },
 "nbformat": 4,
 "nbformat_minor": 4
}
